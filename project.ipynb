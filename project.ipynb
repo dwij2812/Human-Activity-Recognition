{
 "cells": [
  {
   "cell_type": "code",
   "execution_count": 13,
   "metadata": {},
   "outputs": [
    {
     "name": "stdout",
     "output_type": "stream",
     "text": [
      "All required Libraries Imported Successfully\n"
     ]
    }
   ],
   "source": [
    "# Load libraries\n",
    "import pandas\n",
    "from pandas.plotting import scatter_matrix\n",
    "import matplotlib.pyplot as plt\n",
    "from sklearn import model_selection\n",
    "from sklearn.metrics import classification_report\n",
    "from sklearn.metrics import confusion_matrix\n",
    "from sklearn.metrics import accuracy_score\n",
    "from sklearn.linear_model import LogisticRegression\n",
    "from sklearn.tree import DecisionTreeClassifier\n",
    "from sklearn.neighbors import KNeighborsClassifier\n",
    "from sklearn.discriminant_analysis import LinearDiscriminantAnalysis\n",
    "from sklearn.naive_bayes import GaussianNB\n",
    "from sklearn.svm import SVC\n",
    "print('All required Libraries Imported Successfully')"
   ]
  },
  {
   "cell_type": "code",
   "execution_count": 14,
   "metadata": {},
   "outputs": [
    {
     "name": "stdout",
     "output_type": "stream",
     "text": [
      "Dataset Loaded Successfully\n"
     ]
    }
   ],
   "source": [
    "# Load dataset\n",
    "url = \"train.csv\"\n",
    "#names = ['rn','activity','tBodyAcc.mean.X','tBodyAcc.mean.Y','tBodyAcc.mean.Z','tBodyAcc.std.X','tBodyAcc.std.Y','tBodyAcc.std.Z','tBodyAcc.mad.X','tBodyAcc.mad.Y','tBodyAcc.mad.Z','tBodyAcc.max.X','tBodyAcc.max.Y','tBodyAcc.max.Z','tBodyAcc.min.X','tBodyAcc.min.Y','tBodyAcc.min.Z','tBodyAcc.sma','tBodyAcc.energy.X','tBodyAcc.energy.Y','tBodyAcc.energy.Z','tBodyAcc.iqr.X','tBodyAcc.iqr.Y','tBodyAcc.iqr.Z','tBodyAcc.entropy.X','tBodyAcc.entropy.Y','tBodyAcc.entropy.Z','tBodyAcc.arCoeff.X.1','tBodyAcc.arCoeff.X.2','tBodyAcc.arCoeff.X.3','tBodyAcc.arCoeff.X.4','tBodyAcc.arCoeff.Y.1','tBodyAcc.arCoeff.Y.2','tBodyAcc.arCoeff.Y.3','tBodyAcc.arCoeff.Y.4','tBodyAcc.arCoeff.Z.1','tBodyAcc.arCoeff.Z.2','tBodyAcc.arCoeff.Z.3','tBodyAcc.arCoeff.Z.4','tBodyAcc.correlation.X.Y','tBodyAcc.correlation.X.Z','tBodyAcc.correlation.Y.Z','tGravityAcc.mean.X','tGravityAcc.mean.Y','tGravityAcc.mean.Z','tGravityAcc.std.X','tGravityAcc.std.Y','tGravityAcc.std.Z','tGravityAcc.mad.X','tGravityAcc.mad.Y','tGravityAcc.mad.Z','tGravityAcc.max.X','tGravityAcc.max.Y','tGravityAcc.max.Z','tGravityAcc.min.X','tGravityAcc.min.Y','tGravityAcc.min.Z','tGravityAcc.sma','tGravityAcc.energy.X','tGravityAcc.energy.Y','tGravityAcc.energy.Z','tGravityAcc.iqr.X','tGravityAcc.iqr.Y','tGravityAcc.iqr.Z','tGravityAcc.entropy.X','tGravityAcc.entropy.Y','tGravityAcc.entropy.Z','tGravityAcc.arCoeff.X.1','tGravityAcc.arCoeff.X.2','tGravityAcc.arCoeff.X.3','tGravityAcc.arCoeff.X.4','tGravityAcc.arCoeff.Y.1','tGravityAcc.arCoeff.Y.2','tGravityAcc.arCoeff.Y.3','tGravityAcc.arCoeff.Y.4','tGravityAcc.arCoeff.Z.1','tGravityAcc.arCoeff.Z.2','tGravityAcc.arCoeff.Z.3','tGravityAcc.arCoeff.Z.4','tGravityAcc.correlation.X.Y','tGravityAcc.correlation.X.Z','tGravityAcc.correlation.Y.Z','tBodyAccJerk.mean.X','tBodyAccJerk.mean.Y','tBodyAccJerk.mean.Z','tBodyAccJerk.std.X','tBodyAccJerk.std.Y','tBodyAccJerk.std.Z','tBodyAccJerk.mad.X','tBodyAccJerk.mad.Y','tBodyAccJerk.mad.Z','tBodyAccJerk.max.X','tBodyAccJerk.max.Y','tBodyAccJerk.max.Z','tBodyAccJerk.min.X','tBodyAccJerk.min.Y','tBodyAccJerk.min.Z','tBodyAccJerk.sma','tBodyAccJerk.energy.X','tBodyAccJerk.energy.Y','tBodyAccJerk.energy.Z','tBodyAccJerk.iqr.X','tBodyAccJerk.iqr.Y','tBodyAccJerk.iqr.Z','tBodyAccJerk.entropy.X','tBodyAccJerk.entropy.Y','tBodyAccJerk.entropy.Z','tBodyAccJerk.arCoeff.X.1','tBodyAccJerk.arCoeff.X.2','tBodyAccJerk.arCoeff.X.3','tBodyAccJerk.arCoeff.X.4','tBodyAccJerk.arCoeff.Y.1','tBodyAccJerk.arCoeff.Y.2','tBodyAccJerk.arCoeff.Y.3','tBodyAccJerk.arCoeff.Y.4','tBodyAccJerk.arCoeff.Z.1','tBodyAccJerk.arCoeff.Z.2','tBodyAccJerk.arCoeff.Z.3','tBodyAccJerk.arCoeff.Z.4','tBodyAccJerk.correlation.X.Y','tBodyAccJerk.correlation.X.Z','tBodyAccJerk.correlation.Y.Z','tBodyGyro.mean.X','tBodyGyro.mean.Y','tBodyGyro.mean.Z','tBodyGyro.std.X','tBodyGyro.std.Y','tBodyGyro.std.Z','tBodyGyro.mad.X','tBodyGyro.mad.Y','tBodyGyro.mad.Z','tBodyGyro.max.X','tBodyGyro.max.Y','tBodyGyro.max.Z','tBodyGyro.min.X','tBodyGyro.min.Y','tBodyGyro.min.Z','tBodyGyro.sma','tBodyGyro.energy.X','tBodyGyro.energy.Y','tBodyGyro.energy.Z','tBodyGyro.iqr.X','tBodyGyro.iqr.Y','tBodyGyro.iqr.Z','tBodyGyro.entropy.X','tBodyGyro.entropy.Y','tBodyGyro.entropy.Z','tBodyGyro.arCoeff.X.1','tBodyGyro.arCoeff.X.2','tBodyGyro.arCoeff.X.3','tBodyGyro.arCoeff.X.4','tBodyGyro.arCoeff.Y.1','tBodyGyro.arCoeff.Y.2','tBodyGyro.arCoeff.Y.3','tBodyGyro.arCoeff.Y.4','tBodyGyro.arCoeff.Z.1','tBodyGyro.arCoeff.Z.2','tBodyGyro.arCoeff.Z.3','tBodyGyro.arCoeff.Z.4','tBodyGyro.correlation.X.Y','tBodyGyro.correlation.X.Z','tBodyGyro.correlation.Y.Z','tBodyGyroJerk.mean.X','tBodyGyroJerk.mean.Y','tBodyGyroJerk.mean.Z','tBodyGyroJerk.std.X','tBodyGyroJerk.std.Y','tBodyGyroJerk.std.Z','tBodyGyroJerk.mad.X','tBodyGyroJerk.mad.Y','tBodyGyroJerk.mad.Z','tBodyGyroJerk.max.X','tBodyGyroJerk.max.Y','tBodyGyroJerk.max.Z','tBodyGyroJerk.min.X','tBodyGyroJerk.min.Y','tBodyGyroJerk.min.Z','tBodyGyroJerk.sma','tBodyGyroJerk.energy.X','tBodyGyroJerk.energy.Y','tBodyGyroJerk.energy.Z','tBodyGyroJerk.iqr.X','tBodyGyroJerk.iqr.Y','tBodyGyroJerk.iqr.Z','tBodyGyroJerk.entropy.X','tBodyGyroJerk.entropy.Y','tBodyGyroJerk.entropy.Z','tBodyGyroJerk.arCoeff.X.1','tBodyGyroJerk.arCoeff.X.2','tBodyGyroJerk.arCoeff.X.3','tBodyGyroJerk.arCoeff.X.4','tBodyGyroJerk.arCoeff.Y.1','tBodyGyroJerk.arCoeff.Y.2','tBodyGyroJerk.arCoeff.Y.3','tBodyGyroJerk.arCoeff.Y.4','tBodyGyroJerk.arCoeff.Z.1','tBodyGyroJerk.arCoeff.Z.2','tBodyGyroJerk.arCoeff.Z.3','tBodyGyroJerk.arCoeff.Z.4','tBodyGyroJerk.correlation.X.Y','tBodyGyroJerk.correlation.X.Z','tBodyGyroJerk.correlation.Y.Z','tBodyAccMag.mean','tBodyAccMag.std','tBodyAccMag.mad','tBodyAccMag.max','tBodyAccMag.min','tBodyAccMag.sma','tBodyAccMag.energy','tBodyAccMag.iqr','tBodyAccMag.entropy','tBodyAccMag.arCoeff1','tBodyAccMag.arCoeff2','tBodyAccMag.arCoeff3','tBodyAccMag.arCoeff4','tGravityAccMag.mean','tGravityAccMag.std','tGravityAccMag.mad','tGravityAccMag.max','tGravityAccMag.min','tGravityAccMag.sma','tGravityAccMag.energy','tGravityAccMag.iqr','tGravityAccMag.entropy','tGravityAccMag.arCoeff1','tGravityAccMag.arCoeff2','tGravityAccMag.arCoeff3','tGravityAccMag.arCoeff4','tBodyAccJerkMag.mean','tBodyAccJerkMag.std','tBodyAccJerkMag.mad','tBodyAccJerkMag.max','tBodyAccJerkMag.min','tBodyAccJerkMag.sma','tBodyAccJerkMag.energy','tBodyAccJerkMag.iqr','tBodyAccJerkMag.entropy','tBodyAccJerkMag.arCoeff1','tBodyAccJerkMag.arCoeff2','tBodyAccJerkMag.arCoeff3','tBodyAccJerkMag.arCoeff4','tBodyGyroMag.mean','tBodyGyroMag.std','tBodyGyroMag.mad','tBodyGyroMag.max','tBodyGyroMag.min','tBodyGyroMag.sma','tBodyGyroMag.energy','tBodyGyroMag.iqr','tBodyGyroMag.entropy','tBodyGyroMag.arCoeff1','tBodyGyroMag.arCoeff2','tBodyGyroMag.arCoeff3','tBodyGyroMag.arCoeff4','tBodyGyroJerkMag.mean','tBodyGyroJerkMag.std','tBodyGyroJerkMag.mad','tBodyGyroJerkMag.max','tBodyGyroJerkMag.min','tBodyGyroJerkMag.sma','tBodyGyroJerkMag.energy','tBodyGyroJerkMag.iqr','tBodyGyroJerkMag.entropy','tBodyGyroJerkMag.arCoeff1','tBodyGyroJerkMag.arCoeff2','tBodyGyroJerkMag.arCoeff3','tBodyGyroJerkMag.arCoeff4','fBodyAcc.mean.X','fBodyAcc.mean.Y','fBodyAcc.mean.Z','fBodyAcc.std.X','fBodyAcc.std.Y','fBodyAcc.std.Z','fBodyAcc.mad.X','fBodyAcc.mad.Y','fBodyAcc.mad.Z','fBodyAcc.max.X','fBodyAcc.max.Y','fBodyAcc.max.Z','fBodyAcc.min.X','fBodyAcc.min.Y','fBodyAcc.min.Z','fBodyAcc.sma','fBodyAcc.energy.X','fBodyAcc.energy.Y','fBodyAcc.energy.Z','fBodyAcc.iqr.X','fBodyAcc.iqr.Y','fBodyAcc.iqr.Z','fBodyAcc.entropy.X','fBodyAcc.entropy.Y','fBodyAcc.entropy.Z','fBodyAcc.maxInds.X','fBodyAcc.maxInds.Y','fBodyAcc.maxInds.Z','fBodyAcc.meanFreq.X','fBodyAcc.meanFreq.Y','fBodyAcc.meanFreq.Z','fBodyAcc.skewness.X','fBodyAcc.kurtosis.X','fBodyAcc.skewness.Y','fBodyAcc.kurtosis.Y','fBodyAcc.skewness.Z','fBodyAcc.kurtosis.Z','fBodyAcc.bandsEnergy.1.8','fBodyAcc.bandsEnergy.9.16','fBodyAcc.bandsEnergy.17.24','fBodyAcc.bandsEnergy.25.32','fBodyAcc.bandsEnergy.33.40','fBodyAcc.bandsEnergy.41.48','fBodyAcc.bandsEnergy.49.56','fBodyAcc.bandsEnergy.57.64','fBodyAcc.bandsEnergy.1.16','fBodyAcc.bandsEnergy.17.32','fBodyAcc.bandsEnergy.33.48','fBodyAcc.bandsEnergy.49.64','fBodyAcc.bandsEnergy.1.24','fBodyAcc.bandsEnergy.25.48','fBodyAcc.bandsEnergy.1.8.1','fBodyAcc.bandsEnergy.9.16.1','fBodyAcc.bandsEnergy.17.24.1','fBodyAcc.bandsEnergy.25.32.1','fBodyAcc.bandsEnergy.33.40.1','fBodyAcc.bandsEnergy.41.48.1','fBodyAcc.bandsEnergy.49.56.1','fBodyAcc.bandsEnergy.57.64.1','fBodyAcc.bandsEnergy.1.16.1','fBodyAcc.bandsEnergy.17.32.1','fBodyAcc.bandsEnergy.33.48.1','fBodyAcc.bandsEnergy.49.64.1','fBodyAcc.bandsEnergy.1.24.1','fBodyAcc.bandsEnergy.25.48.1','fBodyAcc.bandsEnergy.1.8.2','fBodyAcc.bandsEnergy.9.16.2','fBodyAcc.bandsEnergy.17.24.2','fBodyAcc.bandsEnergy.25.32.2','fBodyAcc.bandsEnergy.33.40.2','fBodyAcc.bandsEnergy.41.48.2','fBodyAcc.bandsEnergy.49.56.2','fBodyAcc.bandsEnergy.57.64.2','fBodyAcc.bandsEnergy.1.16.2','fBodyAcc.bandsEnergy.17.32.2','fBodyAcc.bandsEnergy.33.48.2','fBodyAcc.bandsEnergy.49.64.2','fBodyAcc.bandsEnergy.1.24.2','fBodyAcc.bandsEnergy.25.48.2','fBodyAccJerk.mean.X','fBodyAccJerk.mean.Y','fBodyAccJerk.mean.Z','fBodyAccJerk.std.X','fBodyAccJerk.std.Y','fBodyAccJerk.std.Z','fBodyAccJerk.mad.X','fBodyAccJerk.mad.Y','fBodyAccJerk.mad.Z','fBodyAccJerk.max.X','fBodyAccJerk.max.Y','fBodyAccJerk.max.Z','fBodyAccJerk.min.X','fBodyAccJerk.min.Y','fBodyAccJerk.min.Z','fBodyAccJerk.sma','fBodyAccJerk.energy.X','fBodyAccJerk.energy.Y','fBodyAccJerk.energy.Z','fBodyAccJerk.iqr.X','fBodyAccJerk.iqr.Y','fBodyAccJerk.iqr.Z','fBodyAccJerk.entropy.X','fBodyAccJerk.entropy.Y','fBodyAccJerk.entropy.Z','fBodyAccJerk.maxInds.X','fBodyAccJerk.maxInds.Y','fBodyAccJerk.maxInds.Z','fBodyAccJerk.meanFreq.X','fBodyAccJerk.meanFreq.Y','fBodyAccJerk.meanFreq.Z','fBodyAccJerk.skewness.X','fBodyAccJerk.kurtosis.X','fBodyAccJerk.skewness.Y','fBodyAccJerk.kurtosis.Y','fBodyAccJerk.skewness.Z','fBodyAccJerk.kurtosis.Z','fBodyAccJerk.bandsEnergy.1.8','fBodyAccJerk.bandsEnergy.9.16','fBodyAccJerk.bandsEnergy.17.24','fBodyAccJerk.bandsEnergy.25.32','fBodyAccJerk.bandsEnergy.33.40','fBodyAccJerk.bandsEnergy.41.48','fBodyAccJerk.bandsEnergy.49.56','fBodyAccJerk.bandsEnergy.57.64','fBodyAccJerk.bandsEnergy.1.16','fBodyAccJerk.bandsEnergy.17.32','fBodyAccJerk.bandsEnergy.33.48','fBodyAccJerk.bandsEnergy.49.64','fBodyAccJerk.bandsEnergy.1.24','fBodyAccJerk.bandsEnergy.25.48','fBodyAccJerk.bandsEnergy.1.8.1','fBodyAccJerk.bandsEnergy.9.16.1','fBodyAccJerk.bandsEnergy.17.24.1','fBodyAccJerk.bandsEnergy.25.32.1','fBodyAccJerk.bandsEnergy.33.40.1','fBodyAccJerk.bandsEnergy.41.48.1','fBodyAccJerk.bandsEnergy.49.56.1','fBodyAccJerk.bandsEnergy.57.64.1','fBodyAccJerk.bandsEnergy.1.16.1','fBodyAccJerk.bandsEnergy.17.32.1','fBodyAccJerk.bandsEnergy.33.48.1','fBodyAccJerk.bandsEnergy.49.64.1','fBodyAccJerk.bandsEnergy.1.24.1','fBodyAccJerk.bandsEnergy.25.48.1','fBodyAccJerk.bandsEnergy.1.8.2','fBodyAccJerk.bandsEnergy.9.16.2','fBodyAccJerk.bandsEnergy.17.24.2','fBodyAccJerk.bandsEnergy.25.32.2','fBodyAccJerk.bandsEnergy.33.40.2','fBodyAccJerk.bandsEnergy.41.48.2','fBodyAccJerk.bandsEnergy.49.56.2','fBodyAccJerk.bandsEnergy.57.64.2','fBodyAccJerk.bandsEnergy.1.16.2','fBodyAccJerk.bandsEnergy.17.32.2','fBodyAccJerk.bandsEnergy.33.48.2','fBodyAccJerk.bandsEnergy.49.64.2','fBodyAccJerk.bandsEnergy.1.24.2','fBodyAccJerk.bandsEnergy.25.48.2','fBodyGyro.mean.X','fBodyGyro.mean.Y','fBodyGyro.mean.Z','fBodyGyro.std.X','fBodyGyro.std.Y','fBodyGyro.std.Z','fBodyGyro.mad.X','fBodyGyro.mad.Y','fBodyGyro.mad.Z','fBodyGyro.max.X','fBodyGyro.max.Y','fBodyGyro.max.Z','fBodyGyro.min.X','fBodyGyro.min.Y','fBodyGyro.min.Z','fBodyGyro.sma','fBodyGyro.energy.X','fBodyGyro.energy.Y','fBodyGyro.energy.Z','fBodyGyro.iqr.X','fBodyGyro.iqr.Y','fBodyGyro.iqr.Z','fBodyGyro.entropy.X','fBodyGyro.entropy.Y','fBodyGyro.entropy.Z','fBodyGyro.maxInds.X','fBodyGyro.maxInds.Y','fBodyGyro.maxInds.Z','fBodyGyro.meanFreq.X','fBodyGyro.meanFreq.Y','fBodyGyro.meanFreq.Z','fBodyGyro.skewness.X','fBodyGyro.kurtosis.X','fBodyGyro.skewness.Y','fBodyGyro.kurtosis.Y','fBodyGyro.skewness.Z','fBodyGyro.kurtosis.Z','fBodyGyro.bandsEnergy.1.8','fBodyGyro.bandsEnergy.9.16','fBodyGyro.bandsEnergy.17.24','fBodyGyro.bandsEnergy.25.32','fBodyGyro.bandsEnergy.33.40','fBodyGyro.bandsEnergy.41.48','fBodyGyro.bandsEnergy.49.56','fBodyGyro.bandsEnergy.57.64','fBodyGyro.bandsEnergy.1.16','fBodyGyro.bandsEnergy.17.32','fBodyGyro.bandsEnergy.33.48','fBodyGyro.bandsEnergy.49.64','fBodyGyro.bandsEnergy.1.24','fBodyGyro.bandsEnergy.25.48','fBodyGyro.bandsEnergy.1.8.1','fBodyGyro.bandsEnergy.9.16.1','fBodyGyro.bandsEnergy.17.24.1','fBodyGyro.bandsEnergy.25.32.1','fBodyGyro.bandsEnergy.33.40.1','fBodyGyro.bandsEnergy.41.48.1','fBodyGyro.bandsEnergy.49.56.1','fBodyGyro.bandsEnergy.57.64.1','fBodyGyro.bandsEnergy.1.16.1','fBodyGyro.bandsEnergy.17.32.1','fBodyGyro.bandsEnergy.33.48.1','fBodyGyro.bandsEnergy.49.64.1','fBodyGyro.bandsEnergy.1.24.1','fBodyGyro.bandsEnergy.25.48.1','fBodyGyro.bandsEnergy.1.8.2','fBodyGyro.bandsEnergy.9.16.2','fBodyGyro.bandsEnergy.17.24.2','fBodyGyro.bandsEnergy.25.32.2','fBodyGyro.bandsEnergy.33.40.2','fBodyGyro.bandsEnergy.41.48.2','fBodyGyro.bandsEnergy.49.56.2','fBodyGyro.bandsEnergy.57.64.2','fBodyGyro.bandsEnergy.1.16.2','fBodyGyro.bandsEnergy.17.32.2','fBodyGyro.bandsEnergy.33.48.2','fBodyGyro.bandsEnergy.49.64.2','fBodyGyro.bandsEnergy.1.24.2','fBodyGyro.bandsEnergy.25.48.2','fBodyAccMag.mean','fBodyAccMag.std','fBodyAccMag.mad','fBodyAccMag.max','fBodyAccMag.min','fBodyAccMag.sma','fBodyAccMag.energy','fBodyAccMag.iqr','fBodyAccMag.entropy','fBodyAccMag.maxInds','fBodyAccMag.meanFreq','fBodyAccMag.skewness','fBodyAccMag.kurtosis','fBodyBodyAccJerkMag.mean','fBodyBodyAccJerkMag.std','fBodyBodyAccJerkMag.mad','fBodyBodyAccJerkMag.max','fBodyBodyAccJerkMag.min','fBodyBodyAccJerkMag.sma','fBodyBodyAccJerkMag.energy','fBodyBodyAccJerkMag.iqr','fBodyBodyAccJerkMag.entropy','fBodyBodyAccJerkMag.maxInds','fBodyBodyAccJerkMag.meanFreq','fBodyBodyAccJerkMag.skewness','fBodyBodyAccJerkMag.kurtosis','fBodyBodyGyroMag.mean','fBodyBodyGyroMag.std','fBodyBodyGyroMag.mad','fBodyBodyGyroMag.max','fBodyBodyGyroMag.min','fBodyBodyGyroMag.sma','fBodyBodyGyroMag.energy','fBodyBodyGyroMag.iqr','fBodyBodyGyroMag.entropy','fBodyBodyGyroMag.maxInds','fBodyBodyGyroMag.meanFreq','fBodyBodyGyroMag.skewness','fBodyBodyGyroMag.kurtosis','fBodyBodyGyroJerkMag.mean','fBodyBodyGyroJerkMag.std','fBodyBodyGyroJerkMag.mad','fBodyBodyGyroJerkMag.max','fBodyBodyGyroJerkMag.min','fBodyBodyGyroJerkMag.sma','fBodyBodyGyroJerkMag.energy','fBodyBodyGyroJerkMag.iqr','fBodyBodyGyroJerkMag.entropy','fBodyBodyGyroJerkMag.maxInds','fBodyBodyGyroJerkMag.meanFreq','fBodyBodyGyroJerkMag.skewness','fBodyBodyGyroJerkMag.kurtosis','angle.tBodyAccMean.gravity','angle.tBodyAccJerkMean.gravityMean','angle.tBodyGyroMean.gravityMean','angle.tBodyGyroJerkMean.gravityMean','angle.X.gravityMean','angle.Y.gravityMean','angle.Z.gravityMean']\n",
    "dataset = pandas.read_csv(url, low_memory=False)\n",
    "print('Dataset Loaded Successfully')"
   ]
  },
  {
   "cell_type": "code",
   "execution_count": 15,
   "metadata": {},
   "outputs": [
    {
     "name": "stdout",
     "output_type": "stream",
     "text": [
      "(3609, 563)\n"
     ]
    }
   ],
   "source": [
    "# shape\n",
    "print(dataset.shape)"
   ]
  },
  {
   "cell_type": "code",
   "execution_count": 16,
   "metadata": {},
   "outputs": [
    {
     "name": "stdout",
     "output_type": "stream",
     "text": [
      "    rn  tBodyAcc.mean.X  tBodyAcc.mean.Y  tBodyAcc.mean.Z  tBodyAcc.std.X  \\\n",
      "0    7           0.2790          -0.0196          -0.1100          -0.997   \n",
      "1   11           0.2770          -0.0127          -0.1030          -0.995   \n",
      "2   14           0.2770          -0.0147          -0.1070          -0.999   \n",
      "3   15           0.2980           0.0271          -0.0617          -0.989   \n",
      "4   20           0.2760          -0.0170          -0.1110          -0.998   \n",
      "5   21           0.2780          -0.0143          -0.1080          -0.998   \n",
      "6   22           0.2770          -0.0180          -0.1070          -0.998   \n",
      "7   24           0.2790          -0.0177          -0.1090          -0.998   \n",
      "8   31           0.2220           0.0341          -0.1240          -0.815   \n",
      "9   32          -0.0417           0.1750           0.0256          -0.758   \n",
      "10  41           0.2820          -0.0184          -0.1110          -0.995   \n",
      "11  42           0.2780          -0.0197          -0.1080          -0.994   \n",
      "12  44           0.2790          -0.0163          -0.1130          -0.995   \n",
      "13  48           0.2770          -0.0175          -0.1060          -0.996   \n",
      "14  50           0.2790          -0.0205          -0.1130          -0.996   \n",
      "15  53           0.2780          -0.0206          -0.0968          -0.985   \n",
      "16  54           0.2770          -0.0179          -0.1080          -0.994   \n",
      "17  55           0.2800          -0.0173          -0.1090          -0.996   \n",
      "18  57           0.2780          -0.0171          -0.1080          -0.995   \n",
      "19  58           0.2780          -0.0178          -0.1090          -0.994   \n",
      "\n",
      "    tBodyAcc.std.Y  tBodyAcc.std.Z  tBodyAcc.mad.X  tBodyAcc.mad.Y  \\\n",
      "0           -0.967          -0.983          -0.997          -0.966   \n",
      "1           -0.973          -0.985          -0.996          -0.974   \n",
      "2           -0.991          -0.993          -0.999          -0.991   \n",
      "3           -0.817          -0.902          -0.989          -0.794   \n",
      "4           -0.991          -0.998          -0.998          -0.989   \n",
      "5           -0.994          -0.996          -0.998          -0.994   \n",
      "6           -0.990          -0.997          -0.998          -0.990   \n",
      "7           -0.987          -0.991          -0.999          -0.987   \n",
      "8           -0.749          -0.572          -0.879          -0.777   \n",
      "9           -0.587          -0.439          -0.774          -0.555   \n",
      "10          -0.984          -0.991          -0.996          -0.982   \n",
      "11          -0.985          -0.992          -0.995          -0.985   \n",
      "12          -0.970          -0.989          -0.995          -0.965   \n",
      "13          -0.985          -0.991          -0.997          -0.983   \n",
      "14          -0.981          -0.993          -0.996          -0.980   \n",
      "15          -0.991          -0.982          -0.988          -0.990   \n",
      "16          -0.996          -0.996          -0.995          -0.996   \n",
      "17          -0.996          -0.999          -0.996          -0.995   \n",
      "18          -0.998          -0.992          -0.996          -0.998   \n",
      "19          -0.995          -0.995          -0.995          -0.994   \n",
      "\n",
      "    tBodyAcc.mad.Z    ...     fBodyBodyGyroJerkMag.skewness  \\\n",
      "0           -0.983    ...                            -0.217   \n",
      "1           -0.985    ...                             0.349   \n",
      "2           -0.992    ...                            -0.564   \n",
      "3           -0.888    ...                             0.208   \n",
      "4           -0.997    ...                            -0.942   \n",
      "5           -0.996    ...                            -0.834   \n",
      "6           -0.997    ...                            -0.848   \n",
      "7           -0.990    ...                            -0.910   \n",
      "8           -0.701    ...                             0.743   \n",
      "9           -0.439    ...                             0.482   \n",
      "10          -0.990    ...                            -0.490   \n",
      "11          -0.993    ...                            -0.431   \n",
      "12          -0.990    ...                            -0.448   \n",
      "13          -0.989    ...                            -0.730   \n",
      "14          -0.993    ...                            -0.497   \n",
      "15          -0.982    ...                            -0.688   \n",
      "16          -0.997    ...                            -0.519   \n",
      "17          -0.999    ...                            -0.855   \n",
      "18          -0.993    ...                            -0.901   \n",
      "19          -0.995    ...                            -0.684   \n",
      "\n",
      "    fBodyBodyGyroJerkMag.kurtosis  angle.tBodyAccMean.gravity  \\\n",
      "0                         -0.5640                    -0.21300   \n",
      "1                          0.0577                     0.08070   \n",
      "2                         -0.7660                     0.10600   \n",
      "3                         -0.0681                     0.06230   \n",
      "4                         -0.9660                     0.24500   \n",
      "5                         -0.9690                     0.16100   \n",
      "6                         -0.9500                    -0.00232   \n",
      "7                         -0.9870                    -0.54300   \n",
      "8                          0.5970                     0.17900   \n",
      "9                          0.2560                     0.11500   \n",
      "10                        -0.8530                    -0.14400   \n",
      "11                        -0.7710                     0.00812   \n",
      "12                        -0.7510                     0.04610   \n",
      "13                        -0.9380                    -0.13300   \n",
      "14                        -0.8460                     0.12700   \n",
      "15                        -0.9130                    -0.11300   \n",
      "16                        -0.8130                     0.29300   \n",
      "17                        -0.9840                     0.24100   \n",
      "18                        -0.9880                    -0.32800   \n",
      "19                        -0.9020                     0.75100   \n",
      "\n",
      "    angle.tBodyAccJerkMean.gravityMean  angle.tBodyGyroMean.gravityMean  \\\n",
      "0                              -0.2310                          0.01460   \n",
      "1                               0.5960                         -0.47600   \n",
      "2                              -0.0903                         -0.13200   \n",
      "3                              -0.0587                          0.03120   \n",
      "4                               0.1030                          0.06610   \n",
      "5                               0.1980                          0.25800   \n",
      "6                               0.1500                          0.14200   \n",
      "7                              -0.2500                          0.00699   \n",
      "8                               0.0776                          0.05630   \n",
      "9                               0.1140                         -0.07080   \n",
      "10                             -0.2350                          0.69000   \n",
      "11                              0.1070                          0.90100   \n",
      "12                              0.1120                         -0.52000   \n",
      "13                             -0.3460                          0.28900   \n",
      "14                              0.6370                         -0.08100   \n",
      "15                              0.2230                         -0.39300   \n",
      "16                             -0.0186                         -0.24700   \n",
      "17                              0.1500                          0.39400   \n",
      "18                             -0.6890                          0.39700   \n",
      "19                              0.6260                          0.26300   \n",
      "\n",
      "    angle.tBodyGyroJerkMean.gravityMean  angle.X.gravityMean  \\\n",
      "0                              -0.19000               -0.852   \n",
      "1                               0.11600               -0.852   \n",
      "2                               0.49900               -0.850   \n",
      "3                              -0.26900               -0.731   \n",
      "4                              -0.41200               -0.761   \n",
      "5                              -0.38100               -0.761   \n",
      "6                              -0.85400               -0.762   \n",
      "7                              -0.23500               -0.759   \n",
      "8                              -0.31700               -0.583   \n",
      "9                              -0.00146               -0.553   \n",
      "10                             -0.57400               -0.645   \n",
      "11                             -0.79400               -0.647   \n",
      "12                             -0.13500               -0.645   \n",
      "13                              0.35500               -0.646   \n",
      "14                             -0.18700               -0.643   \n",
      "15                              0.35900                0.400   \n",
      "16                              0.45400                0.399   \n",
      "17                              0.38700                0.400   \n",
      "18                             -0.31100                0.399   \n",
      "19                             -0.64600                0.399   \n",
      "\n",
      "    angle.Y.gravityMean  angle.Z.gravityMean  activity  \n",
      "0                0.1820              -0.0430  STANDING  \n",
      "1                0.1880              -0.0347  STANDING  \n",
      "2                0.1890              -0.0351  STANDING  \n",
      "3                0.2830               0.0364  STANDING  \n",
      "4                0.2630               0.0296  STANDING  \n",
      "5                0.2630               0.0303  STANDING  \n",
      "6                0.2620               0.0300  STANDING  \n",
      "7                0.2640               0.0305  STANDING  \n",
      "8               -0.0208              -0.2550   SITTING  \n",
      "9               -0.0535              -0.2600   SITTING  \n",
      "10              -0.0131              -0.2100   SITTING  \n",
      "11              -0.0124              -0.2100   SITTING  \n",
      "12              -0.0145              -0.2100   SITTING  \n",
      "13              -0.0170              -0.2080   SITTING  \n",
      "14              -0.0184              -0.2090   SITTING  \n",
      "15              -0.5500              -0.4280    LAYING  \n",
      "16              -0.5470              -0.4310    LAYING  \n",
      "17              -0.5460              -0.4320    LAYING  \n",
      "18              -0.5470              -0.4310    LAYING  \n",
      "19              -0.5470              -0.4310    LAYING  \n",
      "\n",
      "[20 rows x 563 columns]\n"
     ]
    }
   ],
   "source": [
    "# head\n",
    "print(dataset.head(20))"
   ]
  },
  {
   "cell_type": "code",
   "execution_count": 17,
   "metadata": {},
   "outputs": [
    {
     "name": "stdout",
     "output_type": "stream",
     "text": [
      "                 rn  tBodyAcc.mean.X  tBodyAcc.mean.Y  tBodyAcc.mean.Z  \\\n",
      "count   3609.000000      3609.000000      3609.000000      3609.000000   \n",
      "mean    5152.430590         0.274544        -0.017415        -0.109195   \n",
      "std     2975.767839         0.063589         0.042589         0.056218   \n",
      "min        7.000000        -0.521000        -1.000000        -0.926000   \n",
      "25%     2570.000000         0.262000        -0.025200        -0.122000   \n",
      "50%     5158.000000         0.277000        -0.017200        -0.109000   \n",
      "75%     7727.000000         0.287000        -0.011000        -0.098000   \n",
      "max    10281.000000         0.693000         1.000000         1.000000   \n",
      "\n",
      "       tBodyAcc.std.X  tBodyAcc.std.Y  tBodyAcc.std.Z  tBodyAcc.mad.X  \\\n",
      "count     3609.000000     3609.000000     3609.000000     3609.000000   \n",
      "mean        -0.608457       -0.506265       -0.614482       -0.634634   \n",
      "std          0.439157        0.501627        0.399514        0.413194   \n",
      "min         -1.000000       -0.999000       -1.000000       -1.000000   \n",
      "25%         -0.992000       -0.976000       -0.979000       -0.993000   \n",
      "50%         -0.939000       -0.812000       -0.844000       -0.946000   \n",
      "75%         -0.254000       -0.051700       -0.283000       -0.306000   \n",
      "max          1.000000        0.980000        1.000000        1.000000   \n",
      "\n",
      "       tBodyAcc.mad.Y  tBodyAcc.mad.Z         ...           \\\n",
      "count     3609.000000     3609.000000         ...            \n",
      "mean        -0.521660       -0.616047         ...            \n",
      "std          0.485282        0.394932         ...            \n",
      "min         -0.999000       -1.000000         ...            \n",
      "25%         -0.976000       -0.978000         ...            \n",
      "50%         -0.816000       -0.837000         ...            \n",
      "75%         -0.084500       -0.288000         ...            \n",
      "max          0.988000        1.000000         ...            \n",
      "\n",
      "       fBodyBodyGyroJerkMag.meanFreq  fBodyBodyGyroJerkMag.skewness  \\\n",
      "count                    3609.000000                    3609.000000   \n",
      "mean                        0.128804                      -0.300815   \n",
      "std                         0.240278                       0.317963   \n",
      "min                        -0.786000                      -0.968000   \n",
      "25%                        -0.015800                      -0.533000   \n",
      "50%                         0.132000                      -0.341000   \n",
      "75%                         0.290000                      -0.118000   \n",
      "max                         0.871000                       0.990000   \n",
      "\n",
      "       fBodyBodyGyroJerkMag.kurtosis  angle.tBodyAccMean.gravity  \\\n",
      "count                    3609.000000                 3609.000000   \n",
      "mean                       -0.619400                    0.007561   \n",
      "std                         0.308303                    0.332249   \n",
      "min                        -0.995000                   -0.969000   \n",
      "25%                        -0.836000                   -0.118000   \n",
      "50%                        -0.706000                    0.007740   \n",
      "75%                        -0.501000                    0.142000   \n",
      "max                         0.957000                    0.981000   \n",
      "\n",
      "       angle.tBodyAccJerkMean.gravityMean  angle.tBodyGyroMean.gravityMean  \\\n",
      "count                         3609.000000                      3609.000000   \n",
      "mean                             0.009484                         0.029185   \n",
      "std                              0.448971                         0.613615   \n",
      "min                             -0.997000                        -1.000000   \n",
      "25%                             -0.281000                        -0.478000   \n",
      "50%                              0.009830                         0.029600   \n",
      "75%                              0.309000                         0.554000   \n",
      "max                              0.997000                         0.999000   \n",
      "\n",
      "       angle.tBodyGyroJerkMean.gravityMean  angle.X.gravityMean  \\\n",
      "count                          3609.000000          3609.000000   \n",
      "mean                             -0.010632            -0.496977   \n",
      "std                               0.490830             0.509336   \n",
      "min                              -0.993000            -0.999000   \n",
      "25%                              -0.398000            -0.816000   \n",
      "50%                              -0.013400            -0.716000   \n",
      "75%                               0.374000            -0.522000   \n",
      "max                               0.996000             0.977000   \n",
      "\n",
      "       angle.Y.gravityMean  angle.Z.gravityMean  \n",
      "count          3609.000000          3609.000000  \n",
      "mean              0.060040            -0.050202  \n",
      "std               0.311308             0.263935  \n",
      "min              -1.000000            -0.971000  \n",
      "25%              -0.015600            -0.122000  \n",
      "50%               0.183000            -0.005260  \n",
      "75%               0.252000             0.104000  \n",
      "max               1.000000             0.998000  \n",
      "\n",
      "[8 rows x 562 columns]\n"
     ]
    }
   ],
   "source": [
    "# descriptions#\n",
    "print(dataset.describe())"
   ]
  },
  {
   "cell_type": "code",
   "execution_count": 18,
   "metadata": {
    "scrolled": true
   },
   "outputs": [
    {
     "name": "stdout",
     "output_type": "stream",
     "text": [
      "activity\n",
      "LAYING                681\n",
      "SITTING               623\n",
      "STANDING              668\n",
      "WALKING               603\n",
      "WALKING_DOWNSTAIRS    493\n",
      "WALKING_UPSTAIRS      541\n",
      "dtype: int64\n"
     ]
    }
   ],
   "source": [
    "# class distribution\n",
    "print(dataset.groupby('activity').size())"
   ]
  },
  {
   "cell_type": "code",
   "execution_count": 19,
   "metadata": {
    "scrolled": true
   },
   "outputs": [],
   "source": [
    "# Split-out validation dataset\n",
    "array = dataset.values\n",
    "X = array[:,0:562]\n",
    "Y = array[:,562]\n",
    "validation_size = 0.20\n",
    "seed = 7\n",
    "X_train, X_validation, Y_train, Y_validation = model_selection.train_test_split(X, Y, test_size=validation_size, random_state=seed)"
   ]
  },
  {
   "cell_type": "code",
   "execution_count": 20,
   "metadata": {},
   "outputs": [],
   "source": [
    "# Test options and evaluation metric\n",
    "seed = 7\n",
    "scoring = 'accuracy'"
   ]
  },
  {
   "cell_type": "code",
   "execution_count": 21,
   "metadata": {},
   "outputs": [
    {
     "name": "stdout",
     "output_type": "stream",
     "text": [
      "LR: 0.958789 (0.008232)\n"
     ]
    },
    {
     "name": "stderr",
     "output_type": "stream",
     "text": [
      "c:\\users\\dwij sheth\\appdata\\local\\programs\\python\\python35\\lib\\site-packages\\sklearn\\discriminant_analysis.py:388: UserWarning: Variables are collinear.\n",
      "  warnings.warn(\"Variables are collinear.\")\n",
      "c:\\users\\dwij sheth\\appdata\\local\\programs\\python\\python35\\lib\\site-packages\\sklearn\\discriminant_analysis.py:388: UserWarning: Variables are collinear.\n",
      "  warnings.warn(\"Variables are collinear.\")\n",
      "c:\\users\\dwij sheth\\appdata\\local\\programs\\python\\python35\\lib\\site-packages\\sklearn\\discriminant_analysis.py:388: UserWarning: Variables are collinear.\n",
      "  warnings.warn(\"Variables are collinear.\")\n",
      "c:\\users\\dwij sheth\\appdata\\local\\programs\\python\\python35\\lib\\site-packages\\sklearn\\discriminant_analysis.py:388: UserWarning: Variables are collinear.\n",
      "  warnings.warn(\"Variables are collinear.\")\n",
      "c:\\users\\dwij sheth\\appdata\\local\\programs\\python\\python35\\lib\\site-packages\\sklearn\\discriminant_analysis.py:388: UserWarning: Variables are collinear.\n",
      "  warnings.warn(\"Variables are collinear.\")\n",
      "c:\\users\\dwij sheth\\appdata\\local\\programs\\python\\python35\\lib\\site-packages\\sklearn\\discriminant_analysis.py:442: UserWarning: The priors do not sum to 1. Renormalizing\n",
      "  UserWarning)\n",
      "c:\\users\\dwij sheth\\appdata\\local\\programs\\python\\python35\\lib\\site-packages\\sklearn\\discriminant_analysis.py:388: UserWarning: Variables are collinear.\n",
      "  warnings.warn(\"Variables are collinear.\")\n",
      "c:\\users\\dwij sheth\\appdata\\local\\programs\\python\\python35\\lib\\site-packages\\sklearn\\discriminant_analysis.py:388: UserWarning: Variables are collinear.\n",
      "  warnings.warn(\"Variables are collinear.\")\n",
      "c:\\users\\dwij sheth\\appdata\\local\\programs\\python\\python35\\lib\\site-packages\\sklearn\\discriminant_analysis.py:388: UserWarning: Variables are collinear.\n",
      "  warnings.warn(\"Variables are collinear.\")\n",
      "c:\\users\\dwij sheth\\appdata\\local\\programs\\python\\python35\\lib\\site-packages\\sklearn\\discriminant_analysis.py:442: UserWarning: The priors do not sum to 1. Renormalizing\n",
      "  UserWarning)\n",
      "c:\\users\\dwij sheth\\appdata\\local\\programs\\python\\python35\\lib\\site-packages\\sklearn\\discriminant_analysis.py:388: UserWarning: Variables are collinear.\n",
      "  warnings.warn(\"Variables are collinear.\")\n",
      "c:\\users\\dwij sheth\\appdata\\local\\programs\\python\\python35\\lib\\site-packages\\sklearn\\discriminant_analysis.py:388: UserWarning: Variables are collinear.\n",
      "  warnings.warn(\"Variables are collinear.\")\n"
     ]
    },
    {
     "name": "stdout",
     "output_type": "stream",
     "text": [
      "LDA: 0.976794 (0.012496)\n",
      "KNN: 0.885367 (0.027776)\n",
      "CART: 0.906833 (0.014004)\n",
      "NB: 0.808463 (0.020389)\n",
      "SVM: 0.916537 (0.026749)\n"
     ]
    }
   ],
   "source": [
    "# Spot Check Algorithms\n",
    "models = []\n",
    "models.append(('LR', LogisticRegression()))\n",
    "models.append(('LDA', LinearDiscriminantAnalysis()))\n",
    "models.append(('KNN', KNeighborsClassifier()))\n",
    "models.append(('CART', DecisionTreeClassifier()))\n",
    "models.append(('NB', GaussianNB()))\n",
    "models.append(('SVM', SVC()))\n",
    "# evaluate each model in turn\n",
    "results = []\n",
    "names = []\n",
    "for name, model in models:\n",
    "\tkfold = model_selection.KFold(n_splits=10, random_state=seed)\n",
    "\tcv_results = model_selection.cross_val_score(model, X_train, Y_train, cv=kfold, scoring=scoring)\n",
    "\tresults.append(cv_results)\n",
    "\tnames.append(name)\n",
    "\tmsg = \"%s: %f (%f)\" % (name, cv_results.mean(), cv_results.std())\n",
    "\tprint(msg)"
   ]
  },
  {
   "cell_type": "code",
   "execution_count": 22,
   "metadata": {},
   "outputs": [
    {
     "data": {
      "image/png": "[encoded data removed]",
      "text/plain": [
       "<Figure size 432x288 with 1 Axes>"
      ]
     },
     "metadata": {},
     "output_type": "display_data"
    }
   ],
   "source": [
    "# Compare Algorithms\n",
    "fig = plt.figure()\n",
    "fig.suptitle('Algorithm Comparison')\n",
    "ax = fig.add_subplot(111)\n",
    "plt.boxplot(results)\n",
    "ax.set_xticklabels(names)\n",
    "plt.show()"
   ]
  },
  {
   "cell_type": "code",
   "execution_count": 23,
   "metadata": {},
   "outputs": [
    {
     "name": "stdout",
     "output_type": "stream",
     "text": [
      "0.9750692520775623\n",
      "[[145   0   0   0   0   0]\n",
      " [  1 131   9   0   0   0]\n",
      " [  0   6 111   0   0   0]\n",
      " [  0   0   0 135   0   1]\n",
      " [  0   0   0   0  96   1]\n",
      " [  0   0   0   0   0  86]]\n",
      "                    precision    recall  f1-score   support\n",
      "\n",
      "            LAYING       0.99      1.00      1.00       145\n",
      "           SITTING       0.96      0.93      0.94       141\n",
      "          STANDING       0.93      0.95      0.94       117\n",
      "           WALKING       1.00      0.99      1.00       136\n",
      "WALKING_DOWNSTAIRS       1.00      0.99      0.99        97\n",
      "  WALKING_UPSTAIRS       0.98      1.00      0.99        86\n",
      "\n",
      "       avg / total       0.98      0.98      0.98       722\n",
      "\n"
     ]
    },
    {
     "name": "stderr",
     "output_type": "stream",
     "text": [
      "c:\\users\\dwij sheth\\appdata\\local\\programs\\python\\python35\\lib\\site-packages\\sklearn\\discriminant_analysis.py:388: UserWarning: Variables are collinear.\n",
      "  warnings.warn(\"Variables are collinear.\")\n"
     ]
    }
   ],
   "source": [
    "# Make predictions on validation dataset\n",
    "lda = LinearDiscriminantAnalysis()\n",
    "lda.fit(X_train, Y_train)\n",
    "predictions = lda.predict(X_validation)\n",
    "print(accuracy_score(Y_validation, predictions))\n",
    "print(confusion_matrix(Y_validation, predictions))\n",
    "print(classification_report(Y_validation, predictions))"
   ]
  },
  {
   "cell_type": "code",
   "execution_count": null,
   "metadata": {},
   "outputs": [],
   "source": []
  }
 ],
 "metadata": {
  "kernelspec": {
   "display_name": "Python 3",
   "language": "python",
   "name": "python3"
  },
  "language_info": {
   "codemirror_mode": {
    "name": "ipython",
    "version": 3
   },
   "file_extension": ".py",
   "mimetype": "text/x-python",
   "name": "python",
   "nbconvert_exporter": "python",
   "pygments_lexer": "ipython3",
   "version": "3.5.0"
  }
 },
 "nbformat": 4,
 "nbformat_minor": 2
}
